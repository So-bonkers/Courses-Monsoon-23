{
 "cells": [
  {
   "cell_type": "markdown",
   "metadata": {},
   "source": [
    "# Science 1\n",
    "\n",
    "## Assignment - 1\n"
   ]
  },
  {
   "cell_type": "markdown",
   "metadata": {},
   "source": [
    "**Q1 : Estimation is an important aspect of modeling in sciences. Do the following exercises to test your ability to estimate quantities :**\n",
    "\n",
    "1. The distance between the classroom (H-205) and the institute main gate ≈ n × 100 m. Estimate n as an integer.\n",
    "2. The time required to walk from the classroom to the main gate at an average pace ≈ n m. Estimate n as an integer.\n",
    "3. If a thin conducting cable (say, copper or aluminum, used for fittings in homes) was laid from the classroom to the main gate on the regular path that you use for walking, and typical current (as in wires in home fittings) made to flow through it, what would be the time taken?\n",
    "by an individual electron to go from one to the other end on average? Assume each atom in the cable to contribute one electron for conduction.\n",
    "4. If the electron in the ground state of hydrogen atom were to go around the hydrogen nucleus following Bohr model, approximately how many rounds will it make in the time estimated in the question above (3).\n",
    "5. Estimate the power consumed for the flow of current for the time estimated above (3)."
   ]
  },
  {
   "cell_type": "markdown",
   "metadata": {},
   "source": [
    "**Q2. Draw phase plane trajectories with three different values of total energies for a dynamical (mechanical) system**\n",
    "(i) exhibiting SHM and\n",
    "(ii) subject to an anharmonic potential with the energy in one case higher than the dissociation\n",
    "limit."
   ]
  },
  {
   "cell_type": "markdown",
   "metadata": {},
   "source": [
    "**Q3. The logistic map xn+1 = αxn(1 − xn) is usually studied for the growth parameter, α, in the range 0 ≤ α ≤ 4. Why? Write a small code for the logistic map and compare the results graphically for α = 0.8 and α = 1.5 for initial conditions x0 = 0.1 and 0.5. Take another case with α = 3.2 and x0 ≳ 0 and plot the results.**"
   ]
  },
  {
   "cell_type": "code",
   "execution_count": 1,
   "metadata": {},
   "outputs": [],
   "source": [
    "import numpy as np\n",
    "import matplotlib.pyplot as plt"
   ]
  },
  {
   "cell_type": "code",
   "execution_count": 2,
   "metadata": {},
   "outputs": [],
   "source": [
    "def logistic_map(alpha, x):\n",
    "    return alpha * x * (1 - x)"
   ]
  },
  {
   "cell_type": "code",
   "execution_count": 3,
   "metadata": {},
   "outputs": [],
   "source": [
    "def generate_logistic_sequence(alpha, x_0, num_iters):\n",
    "    \"\"\"\n",
    "    Generates a logistic sequence with the given parameters.\n",
    "    \"\"\"\n",
    "    sequence = [x_0]\n",
    "    x = x_0\n",
    "    for _ in range(num_iters):\n",
    "        x = logistic_map(alpha, x)\n",
    "        sequence.append(x)\n",
    "    return sequence"
   ]
  },
  {
   "cell_type": "code",
   "execution_count": 22,
   "metadata": {},
   "outputs": [],
   "source": [
    "# parameters\n",
    "alpha_tries = [0.1, 0.5, 1.2, 1.5, 2.5, 3.2]\n",
    "initial_x_0 = [0.1, 0.5]\n",
    "num_iters = 100"
   ]
  },
  {
   "cell_type": "code",
   "execution_count": 25,
   "metadata": {},
   "outputs": [
    {
     "data": {
      "image/png": "[encoded data removed]",
      "text/plain": [
       "<Figure size 5000x500 with 1 Axes>"
      ]
     },
     "metadata": {},
     "output_type": "display_data"
    }
   ],
   "source": [
    "# plots\n",
    "plt.figure(figsize=(50, 5))\n",
    "alpha = 0.1\n",
    "plt.subplot(1, len(alpha_tries), alpha_tries.index(alpha) + 1)\n",
    "plt.title(f'α = {alpha}')\n",
    "for x_0 in initial_x_0:\n",
    "    sequence = generate_logistic_sequence(alpha, x_0, num_iters)\n",
    "    plt.plot(sequence, label=f'x_0 = {x_0}.2f')\n",
    "plt.xlabel(\"Time Steps\")\n",
    "plt.ylabel(\"X_t\")\n",
    "plt.legend()\n",
    "\n",
    "plt.show()"
   ]
  },
  {
   "cell_type": "code",
   "execution_count": null,
   "metadata": {},
   "outputs": [],
   "source": []
  }
 ],
 "metadata": {
  "kernelspec": {
   "display_name": "base",
   "language": "python",
   "name": "python3"
  },
  "language_info": {
   "codemirror_mode": {
    "name": "ipython",
    "version": 3
   },
   "file_extension": ".py",
   "mimetype": "text/x-python",
   "name": "python",
   "nbconvert_exporter": "python",
   "pygments_lexer": "ipython3",
   "version": "3.10.9"
  },
  "orig_nbformat": 4
 },
 "nbformat": 4,
 "nbformat_minor": 2
}
