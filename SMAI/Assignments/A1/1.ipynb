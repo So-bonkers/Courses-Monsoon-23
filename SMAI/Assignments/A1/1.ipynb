{
 "cells": [
  {
   "cell_type": "code",
   "execution_count": 1,
   "metadata": {},
   "outputs": [],
   "source": [
    "# making the necessary imports\n",
    "import numpy as np\n",
    "import matplotlib.pyplot as plt\n",
    "import pandas as pd"
   ]
  },
  {
   "cell_type": "code",
   "execution_count": 7,
   "metadata": {},
   "outputs": [],
   "source": [
    "data_npy = np.load('data.npy', allow_pickle=True)"
   ]
  },
  {
   "cell_type": "code",
   "execution_count": 11,
   "metadata": {},
   "outputs": [],
   "source": [
    "data_df = pd.DataFrame(data_npy)"
   ]
  },
  {
   "cell_type": "code",
   "execution_count": 12,
   "metadata": {},
   "outputs": [
    {
     "data": {
      "text/html": [
       "<div>\n",
       "<style scoped>\n",
       "    .dataframe tbody tr th:only-of-type {\n",
       "        vertical-align: middle;\n",
       "    }\n",
       "\n",
       "    .dataframe tbody tr th {\n",
       "        vertical-align: top;\n",
       "    }\n",
       "\n",
       "    .dataframe thead th {\n",
       "        text-align: right;\n",
       "    }\n",
       "</style>\n",
       "<table border=\"1\" class=\"dataframe\">\n",
       "  <thead>\n",
       "    <tr style=\"text-align: right;\">\n",
       "      <th></th>\n",
       "      <th>0</th>\n",
       "      <th>1</th>\n",
       "      <th>2</th>\n",
       "      <th>3</th>\n",
       "      <th>4</th>\n",
       "    </tr>\n",
       "  </thead>\n",
       "  <tbody>\n",
       "    <tr>\n",
       "      <th>0</th>\n",
       "      <td>9f894201-9d0d-4f75-853b-595c0c1bd661</td>\n",
       "      <td>[[-0.001002429, 0.047839083, -0.0046581626, 0....</td>\n",
       "      <td>[[0.31094703, 0.20213455, -0.16519593, -0.0530...</td>\n",
       "      <td>sleep</td>\n",
       "      <td>33.144312</td>\n",
       "    </tr>\n",
       "    <tr>\n",
       "      <th>1</th>\n",
       "      <td>d2b4d879-0345-4df1-a978-eb7f9e8b89f1</td>\n",
       "      <td>[[-0.013190677, 0.08283211, 0.006474074, 0.001...</td>\n",
       "      <td>[[-0.07832227, -0.07557866, -0.05214904, -0.32...</td>\n",
       "      <td>oven</td>\n",
       "      <td>98.512848</td>\n",
       "    </tr>\n",
       "    <tr>\n",
       "      <th>2</th>\n",
       "      <td>aaf0c209-f3a7-4c91-9a09-bc1e30400c4c</td>\n",
       "      <td>[[-0.010499587, 0.047467805, -0.019303396, -0....</td>\n",
       "      <td>[[0.31455985, -0.024428558, 0.33139282, 0.2197...</td>\n",
       "      <td>chair</td>\n",
       "      <td>15.449425</td>\n",
       "    </tr>\n",
       "    <tr>\n",
       "      <th>3</th>\n",
       "      <td>5ae313c7-9934-456c-9685-36ef20b712fd</td>\n",
       "      <td>[[-0.023966337, 0.024375185, -0.0009961016, -0...</td>\n",
       "      <td>[[0.113364324, -0.23683439, 0.34781978, -0.427...</td>\n",
       "      <td>igloo</td>\n",
       "      <td>43.358541</td>\n",
       "    </tr>\n",
       "    <tr>\n",
       "      <th>4</th>\n",
       "      <td>b58bbb2c-461f-4805-856e-cba323f97e8c</td>\n",
       "      <td>[[-0.018555297, 0.050565578, -0.008821793, 0.0...</td>\n",
       "      <td>[[0.22332864, -0.28626534, -0.037617087, -0.17...</td>\n",
       "      <td>fish</td>\n",
       "      <td>14.454734</td>\n",
       "    </tr>\n",
       "  </tbody>\n",
       "</table>\n",
       "</div>"
      ],
      "text/plain": [
       "                                      0  \\\n",
       "0  9f894201-9d0d-4f75-853b-595c0c1bd661   \n",
       "1  d2b4d879-0345-4df1-a978-eb7f9e8b89f1   \n",
       "2  aaf0c209-f3a7-4c91-9a09-bc1e30400c4c   \n",
       "3  5ae313c7-9934-456c-9685-36ef20b712fd   \n",
       "4  b58bbb2c-461f-4805-856e-cba323f97e8c   \n",
       "\n",
       "                                                   1  \\\n",
       "0  [[-0.001002429, 0.047839083, -0.0046581626, 0....   \n",
       "1  [[-0.013190677, 0.08283211, 0.006474074, 0.001...   \n",
       "2  [[-0.010499587, 0.047467805, -0.019303396, -0....   \n",
       "3  [[-0.023966337, 0.024375185, -0.0009961016, -0...   \n",
       "4  [[-0.018555297, 0.050565578, -0.008821793, 0.0...   \n",
       "\n",
       "                                                   2      3          4  \n",
       "0  [[0.31094703, 0.20213455, -0.16519593, -0.0530...  sleep  33.144312  \n",
       "1  [[-0.07832227, -0.07557866, -0.05214904, -0.32...   oven  98.512848  \n",
       "2  [[0.31455985, -0.024428558, 0.33139282, 0.2197...  chair  15.449425  \n",
       "3  [[0.113364324, -0.23683439, 0.34781978, -0.427...  igloo  43.358541  \n",
       "4  [[0.22332864, -0.28626534, -0.037617087, -0.17...   fish  14.454734  "
      ]
     },
     "execution_count": 12,
     "metadata": {},
     "output_type": "execute_result"
    }
   ],
   "source": [
    "data_df.head()"
   ]
  },
  {
   "cell_type": "code",
   "execution_count": null,
   "metadata": {},
   "outputs": [],
   "source": []
  }
 ],
 "metadata": {
  "kernelspec": {
   "display_name": "base",
   "language": "python",
   "name": "python3"
  },
  "language_info": {
   "codemirror_mode": {
    "name": "ipython",
    "version": 3
   },
   "file_extension": ".py",
   "mimetype": "text/x-python",
   "name": "python",
   "nbconvert_exporter": "python",
   "pygments_lexer": "ipython3",
   "version": "3.10.9"
  },
  "orig_nbformat": 4
 },
 "nbformat": 4,
 "nbformat_minor": 2
}
